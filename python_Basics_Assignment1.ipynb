{
  "nbformat": 4,
  "nbformat_minor": 0,
  "metadata": {
    "colab": {
      "provenance": []
    },
    "kernelspec": {
      "name": "python3",
      "display_name": "Python 3"
    },
    "language_info": {
      "name": "python"
    }
  },
  "cells": [
    {
      "cell_type": "markdown",
      "source": [
        "#1.Explain the key features of python that make it a popular choice of programming.\n",
        "\n",
        "**Key Features of Python:**\n",
        "\n",
        "Python is a popular programming language due to several key features that make it appealing to developers across various domains. Here are the main features that contribute to Python's popularity:\n",
        "\n",
        "**1.Simple and Easy to Learn**\n",
        "\n",
        "Python has a clean and straightforward syntax, which makes it easy for beginners to learn and understand. The syntax is designed to be similar to English, reducing the learning curve compared to other languages. This simplicity makes Python an excellent choice for both beginners and experienced developers.\n",
        "\n",
        "**2.Interpreted Language:**\n",
        "\n",
        "Python is an interpreted language, meaning the code is executed line by line. This allows for easier debugging and testing since errors can be caught and corrected immediately, making development faster and more efficient. Developers do not need to compile code before running it, which saves time and enhances productivity.\n",
        "\n",
        "**3.Dynamic Typing:**\n",
        "\n",
        "Python uses dynamic typing, which means you don't have to declare the data type of a variable when you assign a value to it. This flexibility allows for rapid development, faster prototyping, and reduces the amount of boilerplate code required. It also helps in writing cleaner and more concise code.\n",
        "\n",
        "**4.Extensive Standard Library:**\n",
        "\n",
        "Python has a rich standard library that provides modules and packages for a wide variety of tasks, such as file handling, regular expressions, web development, data analysis, and more. This reduces the need to install and use external libraries, saving development time and effort. The comprehensive nature of the standard library makes Python versatile for many applications.\n",
        "\n",
        "**5.Cross-Platform Compatibility:**\n",
        "\n",
        "Python is a cross-platform language, meaning code written in Python can run on different operating systems like Windows, macOS, and Linux without requiring modification. This makes it highly portable and allows developers to build and deploy applications across different platforms easily.\n",
        "\n",
        "**6.Support for Multiple Paradigms:**\n",
        "\n",
        "Python supports multiple programming paradigms, including procedural, object-oriented, and functional programming. This flexibility allows developers to choose the most appropriate paradigm for their project, making Python suitable for a wide range of applications from web development to scientific computing.\n",
        "\n",
        "**7.Strong Community and Ecosystem**\n",
        "\n",
        "Python has a large and active community, which provides extensive resources, documentation, and third-party libraries. This strong community support ensures continuous development and improvement of the language, making it easier to find help, tutorials, and solutions to common problems.\n",
        "\n",
        "**8.Integration Capabilities**\n",
        "\n",
        "Python integrates well with other languages like C, C++, and Java. It can be used to extend existing applications, automate repetitive tasks, and build robust software solutions. Its integration capabilities make it a preferred choice for building applications that require interaction with different systems.\n",
        "\n",
        "\n"
      ],
      "metadata": {
        "id": "vQPLB2rQsMD1"
      }
    },
    {
      "cell_type": "markdown",
      "source": [
        "#2.Describe the role of predefined keywords in python and provide examples of how they are used in a program.\n",
        "\n",
        "**Role of Predefined Keywords in Python:**\n",
        "\n",
        "Predefined keywords, also known as reserved keywords or built-in keywords, are specific words that have special meanings in Python. These keywords are part of the language's syntax and are used to define the structure and flow of a Python program. They cannot be used as identifiers, such as variable names, function names, or any other user-defined names, because they serve specific purposes within the language.\n",
        "\n",
        "**Key Roles of Predefined Keywords:**\n",
        "\n",
        "**1.Control Flow:** Keywords like if, else, elif, for, while, and break are used to control the flow of the program based on conditions and loops.\n",
        "\n",
        "**2.Data Types and Values:** Keywords such as True, False, None, and, or, and not represent data types or logical operators used for performing logical operations.\n",
        "\n",
        "**3.Function and Class Definition:** Keywords like def and class are used to define functions and classes, which are building blocks of Python programs.\n",
        "\n",
        "**4.Error Handling:** Keywords such as try, except, finally, raise, and assert are used for handling exceptions and errors gracefully.\n",
        "\n",
        "**5.Variable Scope and Namespace Management:** Keywords like global, nonlocal, del, and yield help manage the scope of variables and namespaces.\n",
        "\n",
        "**Examples of Keywords in Python:**\n",
        "\n",
        "Here are some examples demonstrating the use of Python keywords in a program:\n",
        "\n",
        "Example 1: Control Flow using if, elif, and else\n",
        "```\n",
        "#using if,elif and else keywords\n",
        "number = 10\n",
        "\n",
        "if number > 0:\n",
        "    print(\"The number is positive.\")\n",
        "elif number == 0:\n",
        "    print(\"The number is zero.\")\n",
        "else:\n",
        "    print(\"The number is negative.\")\n",
        "```\n",
        "Example 2: Looping with for and Using break\n",
        "```\n",
        "# Using 'for' and 'break' keywords\n",
        "for i in range(1, 6):\n",
        "    if i == 3:\n",
        "        break  # Exit the loop when i is 3\n",
        "    print(i)\n",
        "```\n",
        "Example 3: Handling Exceptions with try and except\n",
        "```\n",
        "# Using 'try' and 'except' keywords to handle exceptions\n",
        "try:\n",
        "    result = 10 / 0  # Division by zero raises an exception\n",
        "except ZeroDivisionError:\n",
        "    print(\"Error: Division by zero is not allowed.\")\n",
        "```\n",
        "\n"
      ],
      "metadata": {
        "id": "zyS6ihRMwa1C"
      }
    },
    {
      "cell_type": "code",
      "source": [
        "#Example 1: Control Flow using if, elif, and else\n",
        "number = 10\n",
        "\n",
        "if number > 0:\n",
        "    print(\"The number is positive.\")\n",
        "elif number == 0:\n",
        "    print(\"The number is zero.\")\n",
        "else:\n",
        "    print(\"The number is negative.\")"
      ],
      "metadata": {
        "colab": {
          "base_uri": "https://localhost:8080/"
        },
        "id": "y8EvmcMeuyi8",
        "outputId": "5da69394-df02-4370-af40-2c3e5430401a"
      },
      "execution_count": null,
      "outputs": [
        {
          "output_type": "stream",
          "name": "stdout",
          "text": [
            "The number is positive.\n"
          ]
        }
      ]
    },
    {
      "cell_type": "code",
      "source": [
        "#Example 2: Looping with for and Using break\n",
        "for i in range(1, 6):\n",
        "    if i == 3:\n",
        "        break  # Exit the loop when i is 3\n",
        "    print(i)"
      ],
      "metadata": {
        "colab": {
          "base_uri": "https://localhost:8080/"
        },
        "id": "yKIaZGx3u6G0",
        "outputId": "5a2180cd-2538-494d-bb99-8be749431218"
      },
      "execution_count": null,
      "outputs": [
        {
          "output_type": "stream",
          "name": "stdout",
          "text": [
            "1\n",
            "2\n"
          ]
        }
      ]
    },
    {
      "cell_type": "code",
      "source": [
        "#Example 3: Handling Exceptions with try and except\n",
        "try:\n",
        "    result = 10 / 0  # Division by zero raises an exception\n",
        "except ZeroDivisionError:\n",
        "    print(\"Error: Division by zero is not allowed.\")"
      ],
      "metadata": {
        "colab": {
          "base_uri": "https://localhost:8080/"
        },
        "id": "G2C1kE8mu6Xc",
        "outputId": "48674d2c-7b7d-42b2-9ab7-c6c5f775eced"
      },
      "execution_count": null,
      "outputs": [
        {
          "output_type": "stream",
          "name": "stdout",
          "text": [
            "Error: Division by zero is not allowed.\n"
          ]
        }
      ]
    },
    {
      "cell_type": "markdown",
      "source": [
        "#3.Compare and Contrast mutable and immutable objects in python with examples.\n",
        "\n",
        "In Python, objects are classified as either mutable or immutable based on whether their state (i.e., their data/content) can be changed after they are created.\n",
        "\n",
        "**1. Mutable Objects**\n",
        "\n",
        "**Definition:** Mutable objects are objects whose state or contents can be modified after they are created.\n",
        "\n",
        "**Examples:** Lists, dictionaries, sets, and most custom objects are mutable.\n",
        "\n",
        "**Use Cases:** Use mutable objects when you need to change or update the content frequently, like in dynamic data structures (e.g., lists or dictionaries).\n",
        "\n",
        "**2. Immutable Objects**\n",
        "\n",
        "**Definition:** Immutable objects are objects whose state or contents cannot be changed once they are created. Any operation that seems to modify an immutable object actually creates a new object.\n",
        "\n",
        "**Examples:** Integers, floats, strings, tuples, and frozensets are immutable.\n",
        "\n",
        "**Use Cases:** Use immutable objects when you need to ensure that data does not change unexpectedly, such as in cases of constants, keys in dictionaries, or when using data in multi-threaded applications to avoid data corruption.\n",
        "\n",
        "**Examples to Illustrate Mutable and Immutable Objects**\n",
        "\n",
        "Example 1: Mutable Object – List\n",
        "```\n",
        "# List is a mutable object\n",
        "fruits = ['apple', 'banana', 'cherry']\n",
        "print(f\"Original list: {fruits}\")\n",
        "\n",
        "# Modifying the list (mutates the object)\n",
        "fruits.append('kiwi')\n",
        "print(f\"Modified list: {fruits}\")  # The original list is changed\n",
        "```\n",
        "Explanation:\n",
        "\n",
        "The fruits list is mutable, so when we use append() to add 'kiwi' to it, the original list is modified in place.\n",
        "\n",
        "Example 2: Immutable Object – String\n",
        "```\n",
        "# String is an immutable object\n",
        "greeting = \"Hello\"\n",
        "print(f\"Original string: {greeting}\")\n",
        "\n",
        "# Trying to modify the string (actually creates a new object)\n",
        "new_greeting = greeting + \", World!\"\n",
        "print(f\"Modified string: {new_greeting}\")  # New string object created\n",
        "print(f\"Original string after modification attempt: {greeting}\")  # Remains unchanged\n",
        "```\n",
        "Explanation:\n",
        "\n",
        "Strings are immutable in Python. The operation greeting + \", World!\" does not modify the original string; it creates a new string object instead. The original greeting remains unchanged.\n",
        "\n",
        "Example 3: Mutable Object – Dictionary\n",
        "```\n",
        "# Dictionary is a mutable object\n",
        "person = {'name': 'Alice', 'age': 25}\n",
        "print(f\"Original dictionary: {person}\")\n",
        "\n",
        "# Modifying the dictionary (mutates the object)\n",
        "person['age'] = 26\n",
        "print(f\"Modified dictionary: {person}\")  # The original dictionary is changed\n",
        "```\n",
        "Explanation:\n",
        "\n",
        "The person dictionary is mutable, so when we change the value associated with the key 'age', the original dictionary is modified in place.\n",
        "\n",
        "Example 4: Immutable Object – Tuple\n",
        "```\n",
        "# Tuple is an immutable object\n",
        "coordinates = (10, 20)\n",
        "print(f\"Original tuple: {coordinates}\")\n",
        "\n",
        "# Trying to modify the tuple (raises an error)\n",
        "# coordinates[0] = 15  # Uncommenting this line will raise a TypeError\n",
        "\n",
        "# Creating a new tuple instead\n",
        "new_coordinates = (15, 20)\n",
        "print(f\"New tuple: {new_coordinates}\")  # A new tuple is created\n",
        "```\n",
        "Explanation:\n",
        "\n",
        "Tuples are immutable in Python. You cannot change their elements after creation. Attempting to do so (e.g., coordinates[0] = 15) will raise a TypeError. Instead, you must create a new tuple.\n",
        "\n",
        "**Conclusion:**\n",
        "\n",
        "Mutable objects allow modification in place, making them suitable for dynamic data structures where frequent changes are needed.\n",
        "Immutable objects cannot be changed once created, making them safer for use in cases where data integrity is crucial or objects need to be hashable for use as dictionary keys."
      ],
      "metadata": {
        "id": "JYle-ndx0I8P"
      }
    },
    {
      "cell_type": "code",
      "source": [
        "#Example 1: Mutable Object – List\n",
        "# List is a mutable object\n",
        "fruits = ['apple', 'banana', 'cherry']\n",
        "print(f\"Original list: {fruits}\")\n",
        "\n",
        "# Modifying the list (mutates the object)\n",
        "fruits.append('kiwi')\n",
        "print(f\"Modified list: {fruits}\")  # The original list is changed"
      ],
      "metadata": {
        "colab": {
          "base_uri": "https://localhost:8080/"
        },
        "id": "VF_INXxwvW5U",
        "outputId": "8f5a515c-e977-4e01-d14d-8af3ccea5416"
      },
      "execution_count": null,
      "outputs": [
        {
          "output_type": "stream",
          "name": "stdout",
          "text": [
            "Original list: ['apple', 'banana', 'cherry']\n",
            "Modified list: ['apple', 'banana', 'cherry', 'kiwi']\n"
          ]
        }
      ]
    },
    {
      "cell_type": "code",
      "source": [
        "#Example 2: Immutable Object – String\n",
        "\n",
        "# String is an immutable object\n",
        "greeting = \"Hello\"\n",
        "print(f\"Original string: {greeting}\")\n",
        "\n",
        "# Trying to modify the string (actually creates a new object)\n",
        "new_greeting = greeting + \", World!\"\n",
        "print(f\"Modified string: {new_greeting}\")  # New string object created\n",
        "print(f\"Original string after modification attempt: {greeting}\")  # Remains unchanged"
      ],
      "metadata": {
        "colab": {
          "base_uri": "https://localhost:8080/"
        },
        "id": "hJV6wj6pvdwE",
        "outputId": "0a2bea4c-5dc7-48f8-c225-ac67ee5b1cb8"
      },
      "execution_count": null,
      "outputs": [
        {
          "output_type": "stream",
          "name": "stdout",
          "text": [
            "Original string: Hello\n",
            "Modified string: Hello, World!\n",
            "Original string after modification attempt: Hello\n"
          ]
        }
      ]
    },
    {
      "cell_type": "code",
      "source": [
        "#Example 3: Mutable Object – Dictionary\n",
        "\n",
        "# Dictionary is a mutable object\n",
        "person = {'name': 'Alice', 'age': 25}\n",
        "print(f\"Original dictionary: {person}\")\n",
        "\n",
        "# Modifying the dictionary (mutates the object)\n",
        "person['age'] = 26\n",
        "print(f\"Modified dictionary: {person}\")  # The original dictionary is changed"
      ],
      "metadata": {
        "colab": {
          "base_uri": "https://localhost:8080/"
        },
        "id": "qmURO7Vvvd3c",
        "outputId": "e12d8f23-53a0-4fbd-a638-de584b5b5ed8"
      },
      "execution_count": null,
      "outputs": [
        {
          "output_type": "stream",
          "name": "stdout",
          "text": [
            "Original dictionary: {'name': 'Alice', 'age': 25}\n",
            "Modified dictionary: {'name': 'Alice', 'age': 26}\n"
          ]
        }
      ]
    },
    {
      "cell_type": "code",
      "source": [
        "#Example 4: Immutable Object – Tuple\n",
        "\n",
        "# Tuple is an immutable object\n",
        "coordinates = (10, 20)\n",
        "print(f\"Original tuple: {coordinates}\")\n",
        "\n",
        "# Trying to modify the tuple (raises an error)\n",
        "# coordinates[0] = 15  # Uncommenting this line will raise a TypeError\n",
        "\n",
        "# Creating a new tuple instead\n",
        "new_coordinates = (15, 20)\n",
        "print(f\"New tuple: {new_coordinates}\")  # A new tuple is created"
      ],
      "metadata": {
        "colab": {
          "base_uri": "https://localhost:8080/"
        },
        "id": "U9_hWqsEvd-s",
        "outputId": "d1ae2edc-c724-4c26-d479-76e2c0dd4ea4"
      },
      "execution_count": null,
      "outputs": [
        {
          "output_type": "stream",
          "name": "stdout",
          "text": [
            "Original tuple: (10, 20)\n",
            "New tuple: (15, 20)\n"
          ]
        }
      ]
    },
    {
      "cell_type": "markdown",
      "source": [
        "#4.Discusss the different types of operators in python and provide examples of how they are used.\n",
        "\n",
        "**Types of Operators in Python:**\n",
        "\n",
        "Operators in Python are special symbols that perform computations or operations on variables and values. Python supports several types of operators, each serving different purposes such as arithmetic, comparison, logical operations, and more.\n",
        "\n",
        "**1.Arithmetic Operators**\n",
        "\n",
        "Arithmetic operators are used to perform basic mathematical operations.\n",
        "\n",
        "1.   Addition\t-> x + y (adds x and y)\n",
        "2.   Subtraction ->\tx - y (subtracts y from x)\n",
        "3.   Multiplication\t-> x * y (multiplies x and y)\n",
        "4.   Division\t-> x / y (divides x by y)\n",
        "5.   Floor Division\t- x // y (divides x by y and rounds down)\n",
        "6.   Modulus\t-> x % y (remainder of x divided by y)\n",
        "7.   Exponentiation\t-> x ** y (raises x to the power of y)\n",
        "\n",
        "Example:\n",
        "```\n",
        "x = 10\n",
        "y = 3\n",
        "\n",
        "print(x + y)   # Addition: 13\n",
        "print(x - y)   # Subtraction: 7\n",
        "print(x * y)   # Multiplication: 30\n",
        "print(x / y)   # Division: 3.3333...\n",
        "print(x // y)  # Floor Division: 3\n",
        "print(x % y)   # Modulus: 1\n",
        "print(x ** y)  # Exponentiation: 1000\n",
        "```\n",
        "\n",
        "**2. Comparison Operators**\n",
        "\n",
        "Comparison operators are used to compare two values. They return a Boolean value (True or False).\n",
        "\n",
        "\n",
        "\n",
        "1.   equal to\t-> x == y (True if x equals y)\n",
        "2.   Not equal to\t-> x != y (True if x is not equal to y)\n",
        "3.   Greater than\t-> x > y (True if x is greater than y)\n",
        "4.   Less than\t-> x < y (True if x is less than y)\n",
        "5.   Greater than or equal to\t-> x >= y (True if x is greater than\n",
        "     or equal to y)\n",
        "6.   Less than or equal to\t-> x <= y (True if x is less than or\n",
        "     equal to y)\n",
        "\n",
        "Example:\n",
        "\n",
        "```\n",
        "x = 5\n",
        "y = 10\n",
        "\n",
        "print(x == y)   # Equal to: False\n",
        "print(x != y)   # Not equal to: True\n",
        "print(x > y)    # Greater than: False\n",
        "print(x < y)    # Less than: True\n",
        "print(x >= y)   # Greater than or equal to: False\n",
        "print(x <= y)   # Less than or equal to: True\n",
        "\n",
        "```\n",
        "**3.Logical Operators**\n",
        "\n",
        "Logical operators are used to combine conditional statements. They return True or False based on the evaluation.\n",
        "\n",
        "\n",
        "\n",
        "1.   Logical AND\t-> x and y (True if both x and y are True)\n",
        "2.   Logical OR\t-> x or y (True if either x or y is True)\n",
        "3.   Logical NOT\t-> not x (True if x is False)\n",
        "\n",
        "Example:\n",
        "```\n",
        "a = True\n",
        "b = False\n",
        "\n",
        "print(a and b)  # Logical AND: False\n",
        "print(a or b)   # Logical OR: True\n",
        "print(not a)    # Logical NOT: False\n",
        "```\n",
        "**4.Assignment Operators**\n",
        "\n",
        "Assignment operators are used to assign values to variables.\n",
        "\n",
        "\n",
        "\n",
        "1.   Assignment\t-> x = 5 (assigns value 5 to x)\n",
        "2.   Add and assign\t-> x += 3 (adds 3 to x and assigns result to x)\n",
        "3.   Subtract and assign\t-> x -= 2 (subtracts 2 from x and assigns\n",
        "     result to x)\n",
        "4.   Multiply and assign\t-> x *= 4 (multiplies x by 4 and assigns\n",
        "     result to x)\n",
        "5.   Divide and assign\t-> x /= 2 (divides x by 2 and assigns  \n",
        "     result to x)\n",
        "6.   Floor divide and assign\t-> x //= 2 (floor divides x by 2 and\n",
        "     assigns result to x)\n",
        "7.   Modulus and assign\t-> x %= 2 (modulus of x by 2 and assigns  \n",
        "     result to x)\n",
        "8.   Exponentiate and assign\t-> x **= 3 (raises x to the power of  \n",
        "     3 and assigns result to x)\n",
        "\n",
        "Example:\n",
        "```\n",
        "x = 5\n",
        "x += 3  # x = x + 3\n",
        "print(x)  # Output: 8\n",
        "\n",
        "y = 10\n",
        "y *= 2  # y = y * 2\n",
        "print(y)  # Output: 20\n",
        "```\n",
        "\n",
        "**5.Bitwise Operators**\n",
        "\n",
        "Bitwise operators are used to perform bit-level operations on binary numbers.\n",
        "\n",
        "\n",
        "\n",
        "1.   Bitwise AND\t-> x & y (bits that are 1 in both x and y)\n",
        "2.   Bitwise XOR\t-> x ^ y (bits that are 1 in x or y but not both)\n",
        "3.   Bitwise NOT\t~x (inverts all bits of x)\n",
        "4.   Bitwise Left Shift\tx << 2 (shifts bits of x left by 2\n",
        "     positions)\n",
        "5.   Bitwise Right Shift\tx >> 2 (shifts bits of x right by 2\n",
        "     positions)\n",
        "6.   Bitwise OR   -> x | y (bits that are 1 in both x and y)\n",
        "\n",
        "Example:\n",
        "```\n",
        "x = 5  # In binary: 0101\n",
        "y = 3  # In binary: 0011\n",
        "\n",
        "print(x & y)  # Bitwise AND: 1 (0001 in binary)\n",
        "print(x | y)  # Bitwise OR: 7 (0111 in binary)\n",
        "print(x ^ y)  # Bitwise XOR: 6 (0110 in binary)\n",
        "print(~x)     # Bitwise NOT: -6 (inverts all bits of x)\n",
        "print(x << 2) # Left shift: 20 (10100 in binary)\n",
        "print(x >> 2) # Right shift: 1 (0001 in binary)\n",
        "```\n",
        "**6.Identity Operators**\n",
        "\n",
        "Identity operators are used to compare the memory locations of two objects.\n",
        "\n",
        "\n",
        "\n",
        "1.   is\t-> Returns True if both variables point to the same object  \n",
        "     (x  is y)\n",
        "2.   is not\t-> Returns True if both variables point to different\n",
        "     objects\t(x is not y)\n",
        "\n",
        "Example:\n",
        "```\n",
        "a = [1, 2, 3]\n",
        "b = a\n",
        "c = [1, 2, 3]\n",
        "\n",
        "print(a is b)       # True, because b is the same object as a\n",
        "print(a is c)       # False, because c is a different object with the same content\n",
        "print(a is not c)   # True, because a and c are not the same object\n",
        "```\n",
        "**7.Membership Operators**\n",
        "\n",
        "Membership operators are used to test whether a value is found within a sequence, such as a string, list, tuple, etc.\n",
        "\n",
        "\n",
        "\n",
        "1.   in\t-> Returns True if a value is found in the sequence\t(\"a\" in\n",
        "    \"apple\")\n",
        "2.   not in\t-> Returns True if a value is not found in the sequence\n",
        "     (\"b\" not in \"apple\")\n",
        "\n",
        "Example:\n",
        "```\n",
        "fruits = [\"apple\", \"banana\", \"cherry\"]\n",
        "print(\"apple\" in fruits)     # True, because \"apple\" is in the list\n",
        "print(\"grape\" not in fruits) # True, because \"grape\" is not in the list\n",
        "```\n",
        "\n",
        "\n",
        "\n",
        "\n",
        "\n",
        "\n",
        "\n"
      ],
      "metadata": {
        "id": "LLECNbF34XaM"
      }
    },
    {
      "cell_type": "code",
      "source": [
        "#Assignment Operators\n",
        "x = 10\n",
        "y = 3\n",
        "\n",
        "print(x + y)   # Addition: 13\n",
        "print(x - y)   # Subtraction: 7\n",
        "print(x * y)   # Multiplication: 30\n",
        "print(x / y)   # Division: 3.3333...\n",
        "print(x // y)  # Floor Division: 3\n",
        "print(x % y)   # Modulus: 1\n",
        "print(x ** y)  # Exponentiation: 1000"
      ],
      "metadata": {
        "colab": {
          "base_uri": "https://localhost:8080/"
        },
        "id": "maXD8HBqskIh",
        "outputId": "6987617b-90e8-454a-9590-4c2f4ece11eb"
      },
      "execution_count": null,
      "outputs": [
        {
          "output_type": "stream",
          "name": "stdout",
          "text": [
            "13\n",
            "7\n",
            "30\n",
            "3.3333333333333335\n",
            "3\n",
            "1\n",
            "1000\n"
          ]
        }
      ]
    },
    {
      "cell_type": "code",
      "source": [
        "#Comparison Operators\n",
        "x = 5\n",
        "y = 10\n",
        "\n",
        "print(x == y)   # Equal to: False\n",
        "print(x != y)   # Not equal to: True\n",
        "print(x > y)    # Greater than: False\n",
        "print(x < y)    # Less than: True\n",
        "print(x >= y)   # Greater than or equal to: False\n",
        "print(x <= y)   # Less than or equal to: True"
      ],
      "metadata": {
        "colab": {
          "base_uri": "https://localhost:8080/"
        },
        "id": "xAgCbJEMti21",
        "outputId": "1bf63a48-6216-412f-9841-4801388b455f"
      },
      "execution_count": null,
      "outputs": [
        {
          "output_type": "stream",
          "name": "stdout",
          "text": [
            "False\n",
            "True\n",
            "False\n",
            "True\n",
            "False\n",
            "True\n"
          ]
        }
      ]
    },
    {
      "cell_type": "code",
      "source": [
        "#Logical operators\n",
        "a = True\n",
        "b = False\n",
        "\n",
        "print(a and b)  # Logical AND: False\n",
        "print(a or b)   # Logical OR: True\n",
        "print(not a)    # Logical NOT: False"
      ],
      "metadata": {
        "colab": {
          "base_uri": "https://localhost:8080/"
        },
        "id": "IbKKUdoJtiZF",
        "outputId": "087251bd-a7d4-44c2-95e5-2880723626a1"
      },
      "execution_count": null,
      "outputs": [
        {
          "output_type": "stream",
          "name": "stdout",
          "text": [
            "False\n",
            "True\n",
            "False\n"
          ]
        }
      ]
    },
    {
      "cell_type": "code",
      "source": [
        "#Assignment Operators\n",
        "x = 5\n",
        "x += 3  # x = x + 3\n",
        "print(x)  # Output: 8\n",
        "\n",
        "y = 10\n",
        "y *= 2  # y = y * 2\n",
        "print(y)  # Output: 20"
      ],
      "metadata": {
        "colab": {
          "base_uri": "https://localhost:8080/"
        },
        "id": "8Ok9PZYttiL1",
        "outputId": "db7855a8-dd9d-4e62-9ac5-4adcf4b36f0b"
      },
      "execution_count": null,
      "outputs": [
        {
          "output_type": "stream",
          "name": "stdout",
          "text": [
            "8\n",
            "20\n"
          ]
        }
      ]
    },
    {
      "cell_type": "code",
      "source": [
        "#Bitwise Operators\n",
        "x = 5  # In binary: 0101\n",
        "y = 3  # In binary: 0011\n",
        "\n",
        "print(x & y)  # Bitwise AND: 1 (0001 in binary)\n",
        "print(x | y)  # Bitwise OR: 7 (0111 in binary)\n",
        "print(x ^ y)  # Bitwise XOR: 6 (0110 in binary)\n",
        "print(~x)     # Bitwise NOT: -6 (inverts all bits of x)\n",
        "print(x << 2) # Left shift: 20 (10100 in binary)\n",
        "print(x >> 2) # Right shift: 1 (0001 in binary)"
      ],
      "metadata": {
        "colab": {
          "base_uri": "https://localhost:8080/"
        },
        "id": "f9AwZTt1th2U",
        "outputId": "10eb2529-3953-40fd-a400-8a852c63cd8a"
      },
      "execution_count": null,
      "outputs": [
        {
          "output_type": "stream",
          "name": "stdout",
          "text": [
            "1\n",
            "7\n",
            "6\n",
            "-6\n",
            "20\n",
            "1\n"
          ]
        }
      ]
    },
    {
      "cell_type": "code",
      "source": [
        "#Identity Operators\n",
        "a = [1, 2, 3]\n",
        "b = a\n",
        "c = [1, 2, 3]\n",
        "\n",
        "print(a is b)       # True, because b is the same object as a\n",
        "print(a is c)       # False, because c is a different object with the same content\n",
        "print(a is not c)   # True, because a and c are not the same object"
      ],
      "metadata": {
        "colab": {
          "base_uri": "https://localhost:8080/"
        },
        "id": "bG8mLBGJubZc",
        "outputId": "48325907-357d-493f-a754-f8570c298d8f"
      },
      "execution_count": null,
      "outputs": [
        {
          "output_type": "stream",
          "name": "stdout",
          "text": [
            "True\n",
            "False\n",
            "True\n"
          ]
        }
      ]
    },
    {
      "cell_type": "code",
      "source": [
        "#Membership Operators\n",
        "fruits = [\"apple\", \"banana\", \"cherry\"]\n",
        "print(\"apple\" in fruits)     # True, because \"apple\" is in the list\n",
        "print(\"grape\" not in fruits) # True, because \"grape\" is not in the list"
      ],
      "metadata": {
        "colab": {
          "base_uri": "https://localhost:8080/"
        },
        "id": "IECXV5LguRn1",
        "outputId": "60b8b945-e3e1-4163-a053-f7f3a12e0c9f"
      },
      "execution_count": null,
      "outputs": [
        {
          "output_type": "stream",
          "name": "stdout",
          "text": [
            "True\n",
            "True\n"
          ]
        }
      ]
    },
    {
      "cell_type": "markdown",
      "source": [
        "#5.Explain the concept of type casting in Python with examples.\n",
        "\n",
        "\n",
        "Type casting in Python is the process of converting a variable from one data type to another. It allows you to transform a value of one type into another type to perform operations that require specific data types or to ensure compatibility between different types.\n",
        "\n",
        "Python provides several built-in functions for type casting, such as:\n",
        "\n",
        "1.int(): Converts a value to an integer.\n",
        "\n",
        "2.float(): Converts a value to a floating-point number.\n",
        "\n",
        "3.str(): Converts a value to a string.\n",
        "\n",
        "4.list(): Converts a value to a list.\n",
        "\n",
        "5.tuple(): Converts a value to a tuple.\n",
        "\n",
        "6.dict(): Converts a value to a dictionary.\n",
        "\n",
        "7.set(): Converts a value to a set.\n",
        "\n",
        "**Examples of Type Casting in Python**\n",
        "\n",
        "1.Converting String to Integer (int()):\n",
        "```\n",
        "str_num = \"10\"\n",
        "int_num = int(str_num)  # Converts the string \"10\" to an integer 10\n",
        "print(int_num)  # Output: 10\n",
        "```\n",
        "2.Converting Integer to Float (float()):\n",
        "```\n",
        "int_num = 5\n",
        "float_num = float(int_num)  # Converts the integer 5 to a floating-point number 5.0\n",
        "print(float_num)  # Output: 5.0\n",
        "```\n",
        "3.Converting Float to Integer (int()):\n",
        "```\n",
        "float_num = 7.9\n",
        "int_num = int(float_num)  # Converts the floating-point number 7.9 to an integer 7 (truncates the decimal part)\n",
        "print(int_num)  # Output: 7\n",
        "```\n",
        "4.Converting Number to String (str()):\n",
        "```\n",
        "num = 100\n",
        "str_num = str(num)  # Converts the integer 100 to a string \"100\"\n",
        "print(str_num)  # Output: \"100\"\n",
        "```\n",
        "5.Converting List to Tuple (tuple()):\n",
        "```\n",
        "list_data = [1, 2, 3]\n",
        "tuple_data = tuple(list_data)  # Converts the list [1, 2, 3] to a tuple (1, 2, 3)\n",
        "print(tuple_data)  # Output: (1, 2, 3)\n",
        "```\n",
        "6.Converting Tuple to List (list()):\n",
        "```\n",
        "tuple_data = (4, 5, 6)\n",
        "list_data = list(tuple_data)  # Converts the tuple (4, 5, 6) to a list [4, 5, 6]\n",
        "print(list_data)  # Output: [4, 5, 6]\n",
        "```\n",
        "7.Converting List to Set (set()):\n",
        "```\n",
        "list_data = [1, 2, 2, 3, 3, 3]\n",
        "set_data = set(list_data)  # Converts the list to a set, removing duplicates: {1, 2, 3}\n",
        "print(set_data)  # Output: {1, 2, 3}\n",
        "```\n",
        "**Conclusion:**\n",
        "\n",
        "**Implicit Type Casting:** Python automatically converts data types in certain expressions (e.g., int to float in arithmetic operations).\n",
        "\n",
        "**Explicit Type Casting:** The programmer manually converts data types using the functions mentioned above.\n",
        "\n",
        "Type casting is useful when you need to ensure that variables are in the correct format for operations, data storage, or when interacting with different types of data structures.\n"
      ],
      "metadata": {
        "id": "Je4Q9iBQv85X"
      }
    },
    {
      "cell_type": "code",
      "source": [
        "#1.Converting String to Integer (int()):\n",
        "\n",
        "str_num = \"10\"\n",
        "int_num = int(str_num)  # Converts the string \"10\" to an integer 10\n",
        "print(int_num)  # Output: 10"
      ],
      "metadata": {
        "colab": {
          "base_uri": "https://localhost:8080/"
        },
        "id": "UKIPaJEdx5eM",
        "outputId": "85e245a7-57c2-4495-a752-f4078db74ba6"
      },
      "execution_count": null,
      "outputs": [
        {
          "output_type": "stream",
          "name": "stdout",
          "text": [
            "10\n"
          ]
        }
      ]
    },
    {
      "cell_type": "code",
      "source": [
        "#2.Converting Integer to Float (float()):\n",
        "\n",
        "int_num = 5\n",
        "float_num = float(int_num)  # Converts the integer 5 to a floating-point number 5.0\n",
        "print(float_num)  # Output: 5.0"
      ],
      "metadata": {
        "colab": {
          "base_uri": "https://localhost:8080/"
        },
        "id": "M5WPVUPpx_G1",
        "outputId": "eabd101b-2db0-4ec9-f101-00d99ed22f42"
      },
      "execution_count": null,
      "outputs": [
        {
          "output_type": "stream",
          "name": "stdout",
          "text": [
            "5.0\n"
          ]
        }
      ]
    },
    {
      "cell_type": "code",
      "source": [
        "#3.Converting Float to Integer (int()):\n",
        "\n",
        "float_num = 7.9\n",
        "int_num = int(float_num)  # Converts the floating-point number 7.9 to an integer 7 (truncates the decimal part)\n",
        "print(int_num)  # Output: 7"
      ],
      "metadata": {
        "colab": {
          "base_uri": "https://localhost:8080/"
        },
        "id": "MOwT5GnDyDC9",
        "outputId": "d83bc34d-f289-41bf-d3da-8dae54282b7e"
      },
      "execution_count": null,
      "outputs": [
        {
          "output_type": "stream",
          "name": "stdout",
          "text": [
            "7\n"
          ]
        }
      ]
    },
    {
      "cell_type": "code",
      "source": [
        "#4.Converting Number to String (str()):\n",
        "\n",
        "num = 100\n",
        "str_num = str(num)  # Converts the integer 100 to a string \"100\"\n",
        "print(str_num)  # Output: \"100\""
      ],
      "metadata": {
        "colab": {
          "base_uri": "https://localhost:8080/"
        },
        "id": "jfKcd1lLyHgT",
        "outputId": "2f98aeff-cc65-4997-8b43-d1b228680480"
      },
      "execution_count": null,
      "outputs": [
        {
          "output_type": "stream",
          "name": "stdout",
          "text": [
            "100\n"
          ]
        }
      ]
    },
    {
      "cell_type": "code",
      "source": [
        "#5.Converting List to Tuple (tuple()):\n",
        "\n",
        "list_data = [1, 2, 3]\n",
        "tuple_data = tuple(list_data)  # Converts the list [1, 2, 3] to a tuple (1, 2, 3)\n",
        "print(tuple_data)  # Output: (1, 2, 3)\n",
        "\n"
      ],
      "metadata": {
        "colab": {
          "base_uri": "https://localhost:8080/"
        },
        "id": "093pAqvXyHkm",
        "outputId": "b708a890-537d-4752-89cc-6819968e240e"
      },
      "execution_count": null,
      "outputs": [
        {
          "output_type": "stream",
          "name": "stdout",
          "text": [
            "(1, 2, 3)\n"
          ]
        }
      ]
    },
    {
      "cell_type": "code",
      "source": [
        "#6.Converting Tuple to List (list()):\n",
        "\n",
        "tuple_data = (4, 5, 6)\n",
        "list_data = list(tuple_data)  # Converts the tuple (4, 5, 6) to a list [4, 5, 6]\n",
        "print(list_data)  # Output: [4, 5, 6]"
      ],
      "metadata": {
        "colab": {
          "base_uri": "https://localhost:8080/"
        },
        "id": "mITFCt_XyHpP",
        "outputId": "4912bf56-c73d-44ee-cbae-b2e7890f880e"
      },
      "execution_count": null,
      "outputs": [
        {
          "output_type": "stream",
          "name": "stdout",
          "text": [
            "[4, 5, 6]\n"
          ]
        }
      ]
    },
    {
      "cell_type": "code",
      "source": [
        "#7.Converting List to Set (set()):\n",
        "\n",
        "list_data = [1, 2, 2, 3, 3, 3]\n",
        "set_data = set(list_data)  # Converts the list to a set, removing duplicates: {1, 2, 3}\n",
        "print(set_data)  # Output: {1, 2, 3}"
      ],
      "metadata": {
        "colab": {
          "base_uri": "https://localhost:8080/"
        },
        "id": "fiZEma6QyHzb",
        "outputId": "be987119-1b4d-47c4-dba9-6e8d03558c4d"
      },
      "execution_count": null,
      "outputs": [
        {
          "output_type": "stream",
          "name": "stdout",
          "text": [
            "{1, 2, 3}\n"
          ]
        }
      ]
    },
    {
      "cell_type": "markdown",
      "source": [
        "#6.How do conditional statements work in Python? Illustrate with examples.\n",
        "\n",
        "Conditional statements in Python allow you to execute different blocks of code based on certain conditions. They are used to control the flow of a program by making decisions based on logical conditions.\n",
        "\n",
        "**Types of Conditional Statements in Python**\n",
        "\n",
        "1**.if statement:** Executes a block of code if a specified condition is True.\n",
        "\n",
        "2**.elif statement:** Stands for \"else if\" and allows you to check multiple expressions for True and execute a block of code as soon as one condition is True.\n",
        "\n",
        "3.**else statement:** Executes a block of code if all preceding conditions are False.\n",
        "\n",
        "Syntax of Conditional Statements:\n",
        "```\n",
        "if condition:\n",
        "    # code block to execute if condition is True\n",
        "elif another_condition:\n",
        "    # code block to execute if another_condition is True\n",
        "else:\n",
        "    # code block to execute if all conditions are False\n",
        "```\n",
        "Examples of Conditional Statements\n",
        "\n",
        "1.Basic if Statement:\n",
        "```\n",
        "number = 10\n",
        "\n",
        "if number > 5:\n",
        "    print(\"Number is greater than 5.\")  # This code block will execute because 10 > 5\n",
        "```\n",
        "2.if...else Statement:\n",
        "```\n",
        "age = 16\n",
        "\n",
        "if age >= 18:\n",
        "    print(\"You are eligible to vote.\")\n",
        "else:\n",
        "    print(\"You are not eligible to vote.\")  # This code block will execute because age is less than 18\n",
        "```\n",
        "3.if...elif...else Statement:\n",
        "```\n",
        "score = 85\n",
        "\n",
        "if score >= 90:\n",
        "    print(\"Grade: A\")\n",
        "elif score >= 80:\n",
        "    print(\"Grade: B\")  # This code block will execute because score is between 80 and 89\n",
        "elif score >= 70:\n",
        "    print(\"Grade: C\")\n",
        "else:\n",
        "    print(\"Grade: D\")\n",
        "```\n",
        "4.Using Multiple Conditions with Logical Operators (and, or, not):\n",
        "```\n",
        "temperature = 30\n",
        "humidity = 70\n",
        "\n",
        "if temperature > 25 and humidity > 60:\n",
        "    print(\"It's hot and humid.\")  # This code block will execute because both conditions are True\n",
        "else:\n",
        "    print(\"The weather is fine.\")\n",
        "```\n",
        "5.Nested if Statements:\n",
        "```\n",
        "num = 8\n",
        "\n",
        "if num > 0:\n",
        "    print(\"Positive number\")  # This code block will execute\n",
        "    if num % 2 == 0:\n",
        "        print(\"Even number\")  # This nested code block will also execute\n",
        "    else:\n",
        "        print(\"Odd number\")\n",
        "else:\n",
        "    print(\"Non-positive number\")\n",
        "```\n",
        "Conclusion:\n",
        "\n",
        "1.Python uses indentation to define the scope of each conditional block. The standard indentation level is 4 spaces.\n",
        "\n",
        "2.Conditional statements are useful for decision-making processes and help control the flow of a program.\n",
        "\n",
        "3.Python supports logical operators (and, or, not) to combine multiple conditions.\n"
      ],
      "metadata": {
        "id": "VceYNSjKymMb"
      }
    },
    {
      "cell_type": "code",
      "source": [
        "#1.Basic if Statement:\n",
        "\n",
        "number = 10\n",
        "\n",
        "if number > 5:\n",
        "    print(\"Number is greater than 5.\")  # This code block will execute because 10 > 5\n"
      ],
      "metadata": {
        "colab": {
          "base_uri": "https://localhost:8080/"
        },
        "id": "VAs6WJLp0F4L",
        "outputId": "c4d8cb77-a9d1-4692-ed3f-349378eae25c"
      },
      "execution_count": null,
      "outputs": [
        {
          "output_type": "stream",
          "name": "stdout",
          "text": [
            "Number is greater than 5.\n"
          ]
        }
      ]
    },
    {
      "cell_type": "code",
      "source": [
        "#2.if...else Statement:\n",
        "\n",
        "age = 16\n",
        "\n",
        "if age >= 18:\n",
        "    print(\"You are eligible to vote.\")\n",
        "else:\n",
        "    print(\"You are not eligible to vote.\")  # This code block will execute because age is less than 18"
      ],
      "metadata": {
        "colab": {
          "base_uri": "https://localhost:8080/"
        },
        "id": "cK98rBUm0GVz",
        "outputId": "cdf02caa-a707-4961-c003-6cb04fef5833"
      },
      "execution_count": null,
      "outputs": [
        {
          "output_type": "stream",
          "name": "stdout",
          "text": [
            "You are not eligible to vote.\n"
          ]
        }
      ]
    },
    {
      "cell_type": "code",
      "source": [
        "#3.if...elif...else Statement:\n",
        "\n",
        "score = 85\n",
        "\n",
        "if score >= 90:\n",
        "    print(\"Grade: A\")\n",
        "elif score >= 80:\n",
        "    print(\"Grade: B\")  # This code block will execute because score is between 80 and 89\n",
        "elif score >= 70:\n",
        "    print(\"Grade: C\")\n",
        "else:\n",
        "    print(\"Grade: D\")"
      ],
      "metadata": {
        "colab": {
          "base_uri": "https://localhost:8080/"
        },
        "id": "OTbZctUk0GcC",
        "outputId": "e78c9cb6-e2fb-4808-df9b-b495ff4ec334"
      },
      "execution_count": null,
      "outputs": [
        {
          "output_type": "stream",
          "name": "stdout",
          "text": [
            "Grade: B\n"
          ]
        }
      ]
    },
    {
      "cell_type": "code",
      "source": [
        "#4.Using Multiple Conditions with Logical Operators (and, or, not):\n",
        "\n",
        "temperature = 30\n",
        "humidity = 70\n",
        "\n",
        "if temperature > 25 and humidity > 60:\n",
        "    print(\"It's hot and humid.\")  # This code block will execute because both conditions are True\n",
        "else:\n",
        "    print(\"The weather is fine.\")"
      ],
      "metadata": {
        "colab": {
          "base_uri": "https://localhost:8080/"
        },
        "id": "aa9q5amH0Gg5",
        "outputId": "7b0fbb61-d744-44fa-eac3-336ca4c99cc2"
      },
      "execution_count": null,
      "outputs": [
        {
          "output_type": "stream",
          "name": "stdout",
          "text": [
            "It's hot and humid.\n"
          ]
        }
      ]
    },
    {
      "cell_type": "code",
      "source": [
        "#5.Nested if Statements:\n",
        "\n",
        "num = 8\n",
        "\n",
        "if num > 0:\n",
        "    print(\"Positive number\")  # This code block will execute\n",
        "    if num % 2 == 0:\n",
        "        print(\"Even number\")  # This nested code block will also execute\n",
        "    else:\n",
        "        print(\"Odd number\")\n",
        "else:\n",
        "    print(\"Non-positive number\")"
      ],
      "metadata": {
        "colab": {
          "base_uri": "https://localhost:8080/"
        },
        "id": "AB15I3bz0GmV",
        "outputId": "9b713b21-896c-429a-c408-9a9fe6968600"
      },
      "execution_count": null,
      "outputs": [
        {
          "output_type": "stream",
          "name": "stdout",
          "text": [
            "Positive number\n",
            "Even number\n"
          ]
        }
      ]
    },
    {
      "cell_type": "markdown",
      "source": [
        "#7.Describe the different types of loops in Python and their usecases with examples.\n",
        "\n",
        "Python provides several types of loops to execute a block of code repeatedly. The main types of loops in Python are for loops and while loops. Here is a detailed description of each type along with their use cases and examples:\n",
        "\n",
        "**1.for Loop:**\n",
        "\n",
        "The for loop is used to iterate over a sequence (like a list, tuple, string, or range) and execute a block of code for each element in the sequence.\n",
        "\n",
        "Use Cases:\n",
        "\n",
        "1.Iterating over a list or any sequence.\n",
        "\n",
        "2.Executing a block of code a fixed number of times.\n",
        "\n",
        "3.Looping through a dictionary's keys, values, or items.\n",
        "\n",
        "Example:\n",
        "```\n",
        "# Example: Iterating over a list\n",
        "fruits = [\"apple\", \"banana\", \"cherry\"]\n",
        "for fruit in fruits:\n",
        "    print(fruit)\n",
        "```\n",
        "**2.while Loop:**\n",
        "\n",
        "The while loop repeatedly executes a block of code as long as a given condition is True. It is useful when the number of iterations is not known in advance.\n",
        "\n",
        "Use Cases:\n",
        "\n",
        "1.Repeating code until a certain condition is met.\n",
        "\n",
        "2.Implementing waiting mechanisms or loops that need to run until a specific event occurs.\n",
        "\n",
        "3.Creating infinite loops (with proper exit conditions).\n",
        "\n",
        "Example:\n",
        "```\n",
        "# Example: Looping until a condition is met\n",
        "count = 0\n",
        "while count < 5:\n",
        "    print(f\"Count is {count}\")\n",
        "    count += 1\n",
        "```\n",
        "**3.Nested Loops:**\n",
        "\n",
        "Nested loops are loops inside another loop. Both for and while loops can be nested inside each other.\n",
        "\n",
        "Use Cases:\n",
        "\n",
        "1.Iterating through multi-dimensional data structures like lists of lists (matrices).\n",
        "\n",
        "2.Implementing algorithms that require multiple levels of iteration (e.g., searching within a grid).\n",
        "\n",
        "Example:\n",
        "```\n",
        "# Example: Nested loop to print a 2D matrix\n",
        "matrix = [\n",
        "    [1, 2, 3],\n",
        "    [4, 5, 6],\n",
        "    [7, 8, 9]\n",
        "]\n",
        "\n",
        "for row in matrix:\n",
        "    for item in row:\n",
        "        print(item, end=\" \")\n",
        "    print()\n",
        "```\n",
        "**4.Loop Control Statements:**\n",
        "\n",
        "Python provides control statements to alter the normal flow of loops:\n",
        "\n",
        "1.break: Terminates the loop prematurely.\n",
        "\n",
        "2.continue: Skips the current iteration and moves to the next iteration.\n",
        "\n",
        "3.else: Executes a block of code when the loop completes normally (without encountering a break).\n",
        "\n",
        "Example:\n",
        "```\n",
        "# Example: Using break to terminate a loop\n",
        "for num in range(10):\n",
        "    if num == 5:\n",
        "        break  # Exit the loop when num is 5\n",
        "    print(num)\n",
        "```\n",
        "```\n",
        "# Example: Using continue to skip an iteration\n",
        "for num in range(5):\n",
        "    if num == 2:\n",
        "        continue  # Skip this iteration\n",
        "    print(num)\n",
        "```\n",
        "```\n",
        "# Example: Using else with loops\n",
        "for num in range(3):\n",
        "    print(num)\n",
        "else:\n",
        "    print(\"Loop completed successfully\")\n",
        "```\n"
      ],
      "metadata": {
        "id": "HHJwgAMY0ho5"
      }
    },
    {
      "cell_type": "code",
      "source": [
        "# Example: Iterating over a list(for loop)\n",
        "fruits = [\"apple\", \"banana\", \"cherry\"]\n",
        "for fruit in fruits:\n",
        "    print(fruit)"
      ],
      "metadata": {
        "colab": {
          "base_uri": "https://localhost:8080/"
        },
        "id": "jmadFrxP2Rga",
        "outputId": "9290adb9-030a-4746-cbca-85e54ec71096"
      },
      "execution_count": null,
      "outputs": [
        {
          "output_type": "stream",
          "name": "stdout",
          "text": [
            "apple\n",
            "banana\n",
            "cherry\n"
          ]
        }
      ]
    },
    {
      "cell_type": "code",
      "source": [
        "# Example: Looping until a condition is met(while loop)\n",
        "count = 0\n",
        "while count < 5:\n",
        "    print(f\"Count is {count}\")\n",
        "    count += 1"
      ],
      "metadata": {
        "colab": {
          "base_uri": "https://localhost:8080/"
        },
        "id": "iD4Un8722flp",
        "outputId": "31c86767-2fb3-4716-de47-3f4afc8160ed"
      },
      "execution_count": null,
      "outputs": [
        {
          "output_type": "stream",
          "name": "stdout",
          "text": [
            "Count is 0\n",
            "Count is 1\n",
            "Count is 2\n",
            "Count is 3\n",
            "Count is 4\n"
          ]
        }
      ]
    },
    {
      "cell_type": "code",
      "source": [
        "#Example: Nested loop to print a 2D matrix\n",
        "matrix = [\n",
        "    [1, 2, 3],\n",
        "    [4, 5, 6],\n",
        "    [7, 8, 9]\n",
        "]\n",
        "\n",
        "for row in matrix:\n",
        "    for item in row:\n",
        "        print(item, end=\" \")\n",
        "    print()"
      ],
      "metadata": {
        "colab": {
          "base_uri": "https://localhost:8080/"
        },
        "id": "us4vWNDm2fth",
        "outputId": "404ee48b-f9c7-47ff-acc6-df1c0577f3a2"
      },
      "execution_count": null,
      "outputs": [
        {
          "output_type": "stream",
          "name": "stdout",
          "text": [
            "1 2 3 \n",
            "4 5 6 \n",
            "7 8 9 \n"
          ]
        }
      ]
    },
    {
      "cell_type": "code",
      "source": [
        "# Example: Using break to terminate a loop\n",
        "for num in range(10):\n",
        "    if num == 5:\n",
        "        break  # Exit the loop when num is 5\n",
        "    print(num)\n",
        "\n"
      ],
      "metadata": {
        "colab": {
          "base_uri": "https://localhost:8080/"
        },
        "id": "4ZI24SGF2fyT",
        "outputId": "39d8ed18-4de9-44df-a786-bafd8da5541f"
      },
      "execution_count": null,
      "outputs": [
        {
          "output_type": "stream",
          "name": "stdout",
          "text": [
            "0\n",
            "1\n",
            "2\n",
            "3\n",
            "4\n"
          ]
        }
      ]
    },
    {
      "cell_type": "code",
      "source": [
        "# Example: Using continue to skip an iteration\n",
        "for num in range(5):\n",
        "    if num == 2:\n",
        "        continue  # Skip this iteration\n",
        "    print(num)"
      ],
      "metadata": {
        "colab": {
          "base_uri": "https://localhost:8080/"
        },
        "id": "VDKiy0lM2f3M",
        "outputId": "d7530ae4-3705-42a1-dd5e-6be9e39f1132"
      },
      "execution_count": null,
      "outputs": [
        {
          "output_type": "stream",
          "name": "stdout",
          "text": [
            "0\n",
            "1\n",
            "3\n",
            "4\n"
          ]
        }
      ]
    },
    {
      "cell_type": "code",
      "source": [
        "# Example: Using else with loops\n",
        "for num in range(3):\n",
        "    print(num)\n",
        "else:\n",
        "    print(\"Loop completed successfully\")"
      ],
      "metadata": {
        "colab": {
          "base_uri": "https://localhost:8080/"
        },
        "id": "YL14kYtb2f7D",
        "outputId": "d47bf9b7-ec24-4ec8-86d1-dd3818d14413"
      },
      "execution_count": null,
      "outputs": [
        {
          "output_type": "stream",
          "name": "stdout",
          "text": [
            "0\n",
            "1\n",
            "2\n",
            "Loop completed successfully\n"
          ]
        }
      ]
    }
  ]
}